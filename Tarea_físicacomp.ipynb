{
 "cells": [
  {
   "cell_type": "markdown",
   "metadata": {},
   "source": [
    "# 1."
   ]
  },
  {
   "cell_type": "code",
   "execution_count": 38,
   "metadata": {},
   "outputs": [],
   "source": [
    "def Factorial(n): #Definimos la función factorial.\n",
    "    if n%1!=0: #Nos cercioramos de que el número ingresado sea entero.\n",
    "        return(\"Ingrese un número entero\")\n",
    "    else:\n",
    "        if n==0:\n",
    "            return(1)\n",
    "        else:\n",
    "            prod=1\n",
    "            for i in range(1,n+1): #Abrimos un ciclo para la productoria de elementos.\n",
    "                prod*=i\n",
    "            return(int(prod)) #Retornamos un número entero.\n",
    "        "
   ]
  },
  {
   "cell_type": "code",
   "execution_count": 42,
   "metadata": {},
   "outputs": [
    {
     "data": {
      "text/plain": [
       "3628800"
      ]
     },
     "execution_count": 42,
     "metadata": {},
     "output_type": "execute_result"
    }
   ],
   "source": [
    "Factorial(10) #El factorial de 10 es 3628800."
   ]
  },
  {
   "cell_type": "markdown",
   "metadata": {},
   "source": [
    "# 2."
   ]
  },
  {
   "cell_type": "code",
   "execution_count": 118,
   "metadata": {},
   "outputs": [],
   "source": [
    "def Binomial(n,k): #Definimos la función binomial.\n",
    "    if n%1!=0 or k%1!=0: #Nos aseguramos de que sean números enteros.\n",
    "        return(\"Ingrese números enteros.\")\n",
    "    else:\n",
    "        return int(Factorial(n)/(Factorial(k)*Factorial(n-k))) #Retornamos un resultado entero."
   ]
  },
  {
   "cell_type": "code",
   "execution_count": 127,
   "metadata": {},
   "outputs": [
    {
     "data": {
      "text/plain": [
       "1"
      ]
     },
     "execution_count": 127,
     "metadata": {},
     "output_type": "execute_result"
    }
   ],
   "source": [
    "Binomial(0,1) #El binomial (0,1) es igual a 1."
   ]
  },
  {
   "cell_type": "markdown",
   "metadata": {},
   "source": [
    "# 3."
   ]
  },
  {
   "cell_type": "code",
   "execution_count": 151,
   "metadata": {},
   "outputs": [],
   "source": [
    "def Pascal(n):\n",
    "    pascal=open('Pascal-%i.txt'%n,'w') #Abrimos archivo txt.\n",
    "    i=0 #Inicializamos variables.\n",
    "    a=1\n",
    "    for t in range(n): \n",
    "        if t+1==10**a: #Cuando haya un aumento de cifras en n, se correrán las filas de modo que la primera\n",
    "            pascal.write(\"n=%i\"%(t+1)) #diagonal quedé recta y escribimos sobre el archivo txt los números \n",
    "            pascal.write(\" \"*(n-i+5-a)) #números correspondientes.\n",
    "            a+=1\n",
    "            i+=1\n",
    "        else:\n",
    "            pascal.write(\"n=%i\"%(t+1))\n",
    "            pascal.write(\" \"*(n-i+5))\n",
    "        for j in range(t+1):\n",
    "            pascal.write(str(Binomial(t,j)))\n",
    "            pascal.write(\" \")\n",
    "        i+=1\n",
    "        pascal.write(\"\\n\") #Se pasa a la siguiente fila.\n",
    "    pascal.close()\n",
    "            \n",
    "        "
   ]
  },
  {
   "cell_type": "code",
   "execution_count": 152,
   "metadata": {},
   "outputs": [],
   "source": [
    "Pascal(10) #En el archivo Pascal-n.txt se dan los resultados esperados."
   ]
  },
  {
   "cell_type": "markdown",
   "metadata": {},
   "source": [
    "# 4."
   ]
  },
  {
   "cell_type": "code",
   "execution_count": 154,
   "metadata": {},
   "outputs": [],
   "source": [
    "def Probabilidad(n,k): #Definimos la función de probabilidad.\n",
    "    return (Binomial(n,k))/2**n "
   ]
  },
  {
   "cell_type": "markdown",
   "metadata": {},
   "source": [
    "## a)"
   ]
  },
  {
   "cell_type": "code",
   "execution_count": 155,
   "metadata": {},
   "outputs": [
    {
     "data": {
      "text/plain": [
       "1.3655426387463099e-17"
      ]
     },
     "execution_count": 155,
     "metadata": {},
     "output_type": "execute_result"
    }
   ],
   "source": [
    "Probabilidad(100,10) "
   ]
  },
  {
   "cell_type": "markdown",
   "metadata": {},
   "source": [
    "## b)"
   ]
  },
  {
   "cell_type": "code",
   "execution_count": 150,
   "metadata": {},
   "outputs": [
    {
     "name": "stdout",
     "output_type": "stream",
     "text": [
      "La probabilidad de que de que caiga cara o sello más de treinta veces en 100 intentos es:0.999984\n"
     ]
    }
   ],
   "source": [
    "pros=[]\n",
    "for i in range(30,101):\n",
    "    pros.append(Probabilidad(100,i))\n",
    "    \n",
    "suma=0\n",
    "for i in pros:\n",
    "    suma+=i\n",
    "\n",
    "print(\"La probabilidad de que de que caiga cara o sello más de treinta veces en 100 intentos es:%f\"%(suma))\n",
    "    \n",
    "    "
   ]
  }
 ],
 "metadata": {
  "kernelspec": {
   "display_name": "Python 3",
   "language": "python",
   "name": "python3"
  },
  "language_info": {
   "codemirror_mode": {
    "name": "ipython",
    "version": 3
   },
   "file_extension": ".py",
   "mimetype": "text/x-python",
   "name": "python",
   "nbconvert_exporter": "python",
   "pygments_lexer": "ipython3",
   "version": "3.7.4"
  }
 },
 "nbformat": 4,
 "nbformat_minor": 2
}
